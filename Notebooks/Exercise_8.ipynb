{
 "cells": [
  {
   "cell_type": "markdown",
   "id": "db9a3c20",
   "metadata": {},
   "source": [
    "# Preambule\n",
    "\n",
    "Let us first demonstrate the following formulas:\n",
    "\n",
    "- Associating in serie two capacitors ($C_{1}$ and $C_{2}$) gives the equivalent capacitor ($C_{eq}$):\n",
    "\n",
    "$$\\frac{1}{C_{eq}}=\\frac{1}{C_{1}}+\\frac{1}{C_{2}}$$\n",
    "\n",
    "- Associating in parallel two capacitors ($C_{1}$ and $C_{2}$) gives the equivalent capacitor ($C_{eq}$):\n",
    "\n",
    "$$C_{eq}=C_{1}+C_{2}$$"
   ]
  },
  {
   "cell_type": "markdown",
   "id": "4f4d9c11",
   "metadata": {},
   "source": [
    "# Exercises on breadboard\n",
    "\n",
    "This session is entirely dedicated to circuits on breadboards. Let as give a quick recap'. You can also refresh your knowledge with the following video (https://www.youtube.com/watch?v=6WReFkfrUIk). "
   ]
  },
  {
   "cell_type": "markdown",
   "id": "3ddf0229",
   "metadata": {},
   "source": [
    "# Exercise 0\n",
    "\n",
    "Here are seven circuits (labelled from (a) to (g)) realized on a breadboard and powered by a 9V battery (whose internal resistance is neglected).\n",
    "\n",
    "<img title=\"a title\" alt=\"Alt text\" src=\"../Figures/Exercise 8/Exercice_0.png\" width=\"1000\">\n",
    "\n",
    "<div class=\"alert alert-block alert-info\">\n",
    "Methodologically, it may help you to draw these circuits, with the symbols corresponding to resistors and capacitors, before solving them.\n",
    "</div>\n",
    "\n",
    "The circuits (a), (b) and (c) are called **voltage dividers**. \n",
    "\n",
    "1. What is the voltage at node 1 of circuit (a)?\n",
    "2. What is the voltage at node 2 of circuit (b)?\n",
    "3. What is the voltage at node 3 of circuit (c)?\n",
    "\n",
    "4. What is the name of the circuit presented in (d)?\n",
    "5. After how many time could we consider the capacitor as \"charged\"?\n",
    "6. What is the voltage evolution at node 4 after the battery is connected? (from 0 to infinity)\n",
    "7. What is the voltage at node 5 (circuit (e)) way after the battery is connected?\n",
    "8. What is the energy stored (in Joules) in the red capacitor (circuit (e))?\n",
    "9. What is the voltage at node 6 of circuit (f)?\n",
    "10. What is the energy stored in this circuit (f)?\n",
    "11. What is the current flowing in the $5k\\Omega$ resistor (arrow 7 - circuit (g))?\n",
    "\n",
    "12. Suppose that I disconnect the 9V-battery, what is the total energy stored in all the **blue** capacitors?"
   ]
  },
  {
   "cell_type": "markdown",
   "id": "0b24d2b6",
   "metadata": {},
   "source": [
    "# Exercise 1\n",
    "\n",
    "Consider the circuit of resistors presented on the left of the following figure:\n",
    "\n",
    "<img title=\"a title\" alt=\"Alt text\" src=\"../Figures/Exercise 8/Exercice_1.png\" width=\"1000\">\n",
    "\n",
    "1. What is the value of the equivalent resistor ($R_{eq}$) of this circuit?\n",
    "2. Among the three circuits realized on breadboard (presented in (a), (b) and (c)), which are those equivalent to the circuit presented on the left on the figure?"
   ]
  },
  {
   "cell_type": "markdown",
   "id": "c563d496",
   "metadata": {},
   "source": [
    "# Exercise 2\n",
    "\n",
    "What is the equivalent resistance of the following circuit:\n",
    "\n",
    "<img title=\"a title\" alt=\"Alt text\" src=\"../Figures/Exercise 8/Exercice_2.png\" width=\"400\">"
   ]
  },
  {
   "cell_type": "markdown",
   "id": "84871c91",
   "metadata": {},
   "source": [
    "# Exercise 3\n",
    "\n",
    "Using symbols, can you draw the circuit equivalent to what is presented on the following breadboard ?\n",
    "\n",
    "<img title=\"a title\" alt=\"Alt text\" src=\"../Figures/Exercise 8/Exercice_3.png\" width=\"400\">"
   ]
  },
  {
   "cell_type": "markdown",
   "id": "3dc26687",
   "metadata": {},
   "source": [
    "# Exercise 4\n",
    "\n",
    "Consider the following circuit, using the IC \"LM324\" (whose pin configuration can be found in the datasheet - https://www.ti.com/lit/ds/symlink/lm324.pdf):\n",
    "\n",
    "<img title=\"a title\" alt=\"Alt text\" src=\"../Figures/Exercise 8/Exercice_4.png\" width=\"400\">\n",
    "\n",
    "This IC (as presented during the course) contains 4 OpAmps. \n",
    "\n",
    "1. In which circuit configuration is this IC mounted? (follower, non-inverting amplifier, inverting amplifier, inverting integrator)\n",
    "\n",
    "2. Where should an input signal (measured with respect to the ground) be connected to? Where would the output be measured (with respect to the same ground)?"
   ]
  },
  {
   "cell_type": "markdown",
   "id": "d5c1a2f1",
   "metadata": {},
   "source": [
    "# Exercise 5\n",
    "\n",
    "This circuit, realized on a breadboard, represents a relaxation oscillator:\n",
    "\n",
    "<img title=\"a title\" alt=\"Alt text\" src=\"../Figures/Exercise 8/Exercice_5.png\" width=\"800\">\n",
    "\n",
    "1. From this figure (and without looking at your notes), draw the equivalent circuit (using symbols).\n",
    "2. Given that the resistors presented are $1k\\Omega$ resistors and that the capacitor is $1\\;nF$, what is the frequency at which the output of the LM324 oscillates?"
   ]
  },
  {
   "cell_type": "code",
   "execution_count": null,
   "id": "6bb94f76",
   "metadata": {},
   "outputs": [],
   "source": []
  }
 ],
 "metadata": {
  "kernelspec": {
   "display_name": "Python 3 (ipykernel)",
   "language": "python",
   "name": "python3"
  },
  "language_info": {
   "codemirror_mode": {
    "name": "ipython",
    "version": 3
   },
   "file_extension": ".py",
   "mimetype": "text/x-python",
   "name": "python",
   "nbconvert_exporter": "python",
   "pygments_lexer": "ipython3",
   "version": "3.9.7"
  }
 },
 "nbformat": 4,
 "nbformat_minor": 5
}
