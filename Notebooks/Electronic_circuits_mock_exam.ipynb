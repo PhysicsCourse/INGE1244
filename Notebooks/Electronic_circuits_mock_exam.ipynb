{
 "cells": [
  {
   "cell_type": "markdown",
   "id": "6b8bb659",
   "metadata": {},
   "source": [
    "# Keywords list\n",
    "\n",
    "Switches, logic gates (2 or 3 bits), arbitrary basis counting (binary, etc.), scales, PCB, IC (conceptual supply chain), electromotive force, resistor, capacitor, vector field, Gauss law, Operational amplifier, black box, feedback, RC circuit, Relaxation oscillator, Basic OpAmp circuits, breadboard, sensor, filter "
   ]
  },
  {
   "cell_type": "markdown",
   "id": "25addcae",
   "metadata": {},
   "source": [
    "The exam is 3 hours long. No **graphical** calculator is allowed.\n",
    "\n",
    "We suggest you to:\n",
    "\n",
    "- distribute your time equally between the three main questions (just a suggestion). \n",
    "- spend your effort cleverly. \n",
    "- Read out **carefully** the different statements. \n",
    "- Don't hesitate to ask clarifications if something seems not clear.\n",
    "- write down all physical quantities with their **physical unit** (e.g. 0.8 $[kg]$, for a mass, 17.54 $[m]$ for a length, etc.). \n",
    "- answer as clearly and properly as possible (your teacher is no hieroglyphologist)."
   ]
  },
  {
   "cell_type": "markdown",
   "id": "ff17afc8",
   "metadata": {},
   "source": [
    "# Question 1 ( /6)\n",
    "\n",
    "This question evaluates your ability to demonstrate your understanding of the **methodology** underlying the construction of an electronic-based instrument (Measurand, Sensor/Transducer, circuit, signal).\n",
    "\n",
    "## Water level\n",
    "\n",
    "During summer 2021, Belgium experienced the worst floods of its history. For example, the commune of Jalhay (province of Liège) reported 271.5 mm (Rainfall is a physical quantity with dimension of volume of water ($\\epsilon_{R}\\sim 80$) per collection area, in units of liters per square meter ($L/m^{2}$); as 1L=1$dm^{3}$=1mm·$m^{2}$, resulting in simply \"mm\") of precipitation in 48h. \n",
    "\n",
    "You are part of a project whose purpose is to use an artificial intelligence to anticipate such catastrophies. An artificial intelligence can be trained to identify patterns in signals that are specific to the time period before the catastrophy occurs. Problem, Belgium lacks of a water level sensor network on its territory. \n",
    "\n",
    "Remembering of your electronics course, you plan to build a demonstrator that will be installed next to every city hall of Belgium. The demonstrator is presented on a picture in attachement to a mail you received (whose object is \"capacitive sensing\"). It looks as follows:\n",
    "\n",
    "<img title=\"a title\" alt=\"Alt text\" src=\"../Figures/Mock exam/question_1.png\" width=\"100\">\n",
    "\n",
    "Two facing sides (in grey on the figure below) of a right rectangular box (basis of area $5\\;cm\\times\\;5 cm$ and height of $1\\;m$) are realize in aluminum.\n",
    "\n",
    "In order to present your prototype to fund raisers you plan write a \"working principle\" note. \n",
    "\n",
    "[Take a few minuts to think to the global working principle]\n",
    "\n",
    "Before writing this note, you plan to settle down a few technical aspects.\n",
    "\n",
    "***\n",
    "***\n",
    "\n",
    "## Question A ( /0.5)\n",
    "\n",
    "What is the value of the capacitor constituted by the aluminum plates:\n",
    "\n",
    "1. When the sensor is empty?\n",
    "2. When the sensor is full of water?\n",
    "\n",
    "## Question B ( /1)\n",
    "\n",
    "Considering a column of water of height $h\\;(m)$, what is the function liking the water level $h$ to the value of the capacitance $C(h)$?\n",
    "\n",
    "***\n",
    "***\n",
    "\n",
    "The value of $C$ is planned to be measured thanks to a **relaxation oscillator** whose circuit is presented here:\n",
    "\n",
    "<img title=\"a title\" alt=\"Alt text\" src=\"../Figures/Mock exam/question_1_osc.png\" width=\"400\">\n",
    "\n",
    "## Question C ( /2.5)\n",
    "\n",
    "1. What is the period ($T$) of oscillation of this circuit in terms of $R$ and $C$? \n",
    "2. Demonstrate how this formula is obtained from the \"charge/discharge\" curves of the capacitor $C$.\n",
    "3. Given that your circuit is powered with a $5V$-battery, can you realize a graph (title, units, ticks axis, axis names...) showing in **red** the signal $S(t)$ and, on the same graph, in blue, the signal $V(t)$? \n",
    "4. What are the minimal and maximal energy stored in $C$? Where does this energy comes, and where does it go?\n",
    "5. The engineers target output signal of tens of $kilo$-hertz signals. What value of $R$ should you select when you only have at your disposal resistors of $100\\Omega$, $100k\\Omega$, $100M\\Omega$ or $100G\\Omega$? \n",
    "\n",
    "## Question D [Integrated essay] ( /1.5)\n",
    "\n",
    "In a few lines of text, write down the basic working principle of your prototype. Please underline three to five words that you consider as \"key\" (essential) to the comprehension. \n",
    "\n",
    "### Sequel ( /0.5)\n",
    "\n",
    "Your project was funded and has been implemented as planned. Eventhough it was a huge success (the artificial intelligence is now trained), users report concerns about the data reported during \"extreme\" temperature period. Write down (in a few lines) a problem that **might** occur and the possible reason for this problem (we do **not** ask for any solution). "
   ]
  },
  {
   "cell_type": "markdown",
   "id": "b048d6c4",
   "metadata": {},
   "source": [
    "# Question 2 ( /7)\n",
    "\n",
    "This question evaluates your ability to **identify** the relevant **concepts** required to explain an observation and present a **justification** (a few lines of text with, possibly, relevant equations - this is what is meant by 'justify'. Be as concise as possible. \n",
    "\n",
    "# Rating answers - conceptual questions\n",
    "\n",
    "The key question is: Would I publish your answer in a textbook ?\n",
    "\n",
    "|        Review rating         | Points  |              Rating of answer          |\n",
    "|:-----------------------------|:-------:|---------------------------------------:|\n",
    "|       publish as is          |    100%    |        perfect or nearly perfect       |\n",
    "| publish after minor revision |    75%    |   small errors that require revision   |\n",
    "|            Correct answer            |    25%    | The correct answer has been selected with no justifications |\n",
    "|            reject            |    0%    | little or no relevance to the question |\n"
   ]
  },
  {
   "cell_type": "markdown",
   "id": "8fcae6c2",
   "metadata": {},
   "source": [
    "## Question A ( /1)\n",
    "\n",
    "Here is a circuit realized only with 10 $\\Omega$ resistors:\n",
    "\n",
    "<img title=\"a title\" alt=\"Alt text\" src=\"../Figures/Mock exam/conceptual_001.png\" width=\"250\">\n",
    "\n",
    "Nodes A and B are connected to the terminals of a battery. Consider the currents $I_{1}$ (that flows in throught the red resistor), $I_{2}$ (that flows in throught the blue resistor) and $I_{3}$ (that flows in throught the green resistor).\n",
    "\n",
    "1. Which of the following proposition is true ?\n",
    "\n",
    "    1. $I_{1}=I_{2}=I_{3}$\n",
    "    2. $I_{1}=I_{2}<I_{3}$\n",
    "    3. $I_{1}=I_{2}>I_{3}$\n",
    "    4. Need more informations\n",
    "\n",
    "2. Suppose that node A is connected to a 1001 volts battery and node B to a 1000V battery. The current flowing through the circuit is:\n",
    "\n",
    "    1. comparable to one ampere.\n",
    "    2. way smaller than one ampere.\n",
    "    3. Way larger than one ampere.\n",
    "    4. Need more informations. "
   ]
  },
  {
   "cell_type": "markdown",
   "id": "688b2b11",
   "metadata": {},
   "source": [
    "## Question B ( /1.5)\n",
    "\n",
    "A cylindrical capacitor consists of a cylinder (or wire) of radius $R_{a}$ (shown in red) surrounded by a coaxial cylindrical shell of inner radius $R_{b}$ (shown in blue). Both cylinders have length $L$ much greater than the separation of the cylinders, so we can neglect end effects.\n",
    "\n",
    "The capacitor is charged (by connecting it to a battery) so that one cylinder has a charge $+Q$ (say, the inner one) and the other one a charge $-Q$.\n",
    "\n",
    "Here is a sketch of such device:\n",
    "\n",
    "<img title=\"a title\" alt=\"Alt text\" src=\"../Figures/Mock exam/conceptual_002.png\" width=\"500\">\n",
    "\n",
    "Find the right formula for the capacitance ($C$) of the cylindrical capacitor:\n",
    "\n",
    "1. $C=\\frac{2\\pi\\epsilon L}{ln(\\frac{R_{b}}{R_{a}})}$\n",
    "2. $C=\\frac{2\\pi\\epsilon}{ln(\\frac{R_{b}}{R_{a}})}\\frac{1}{L}$\n",
    "3. $C=\\frac{2\\pi L}{\\epsilon ln(\\frac{R_{b}}{R_{a}})}$\n",
    "4. None of the above\n",
    "\n",
    "Note that $ln()$ is the natural logarithm (in base $e$)."
   ]
  },
  {
   "cell_type": "markdown",
   "id": "c8b7dc77",
   "metadata": {},
   "source": [
    "## Question C ( /1)\n",
    "\n",
    "Consider a pair of identical lightbulbs (represented by a resistor symbol on the figure below) connected to a battery of 12V. Will the battery last for a longer period if they are connected in series or in parallel ?\n",
    "\n",
    "<img title=\"a title\" alt=\"Alt text\" src=\"../Figures/Mock exam/conceptual_003.png\" width=\"400\">"
   ]
  },
  {
   "cell_type": "markdown",
   "id": "74720aec",
   "metadata": {},
   "source": [
    "## Question D ( /1)\n",
    "\n",
    "The light bulbs in the circuit are identical. When the switch is closed,\n",
    "\n",
    "<img title=\"a title\" alt=\"Alt text\" src=\"../Figures/Mock exam/conceptual_004.png\" width=\"400\">\n",
    "\n",
    "1. both go out.\n",
    "2. the intensity of light bulb A increases.\n",
    "3. the intensity of light bulb A decreases.\n",
    "4. the intensity of light bulb B increases.\n",
    "5. the intensity of light bulb B decreases.\n",
    "6. some combination of 1-5 occurs.\n",
    "7. nothing changes."
   ]
  },
  {
   "cell_type": "markdown",
   "id": "c1ec5771",
   "metadata": {},
   "source": [
    "## Question E ( /1.5)\n",
    "\n",
    "The following figure shows a useful basic op amp circuit:\n",
    "\n",
    "<img title=\"a title\" alt=\"Alt text\" src=\"../Figures/Mock exam/conceptual_005.png\" width=\"400\">\n",
    "\n",
    "The output voltage $v_{out}(t)$ is linked to the input voltage $v_{in}(t)$ thanks to:\n",
    "\n",
    "1. $v_{out}(t)=-RC\\frac{dv_{in}(t)}{dt}$\n",
    "2. $v_{out}(t)=RC\\frac{dv_{in}(t)}{dt}$\n",
    "3. $v_{out}(t)=v_{out}(t_{0})-\\frac{1}{RC}\\int_{t_{0}}^{t}v_{in}(t)dt$\n",
    "4. $v_{out}(t)=v_{out}(t_{0})+\\frac{1}{RC}\\int_{t_{0}}^{t}v_{in}(t)dt$\n",
    "\n",
    "It is called the:\n",
    "\n",
    "1. Inverting differentiator\n",
    "2. Differentiator\n",
    "3. Inverting integrator\n",
    "4. Integrator\n",
    "\n",
    "Justify your answer with the closed loop concepts and simplifications that you used. "
   ]
  },
  {
   "cell_type": "markdown",
   "id": "3eef21f6",
   "metadata": {},
   "source": [
    "## Question F ( /1)\n",
    "\n",
    "Here is a 3 inputs logic circuit constituted with only NAND gates (the NAND gate is called, the universal gate). \n",
    "\n",
    "<img title=\"a title\" alt=\"Alt text\" src=\"../Figures/Mock exam/conceptual_006.png\" width=\"400\">\n",
    "\n",
    "The inputs (A,B and C) can have the value \"0\" or \"1\" (respectively \"False\" or \"True\").\n",
    "\n",
    "1. Considering the following triplet $(A=0,B=1,C=0)$, what is the value of the output?\n",
    "    - $Q=0$\n",
    "    - $Q=1$\n",
    "\n",
    "2. How many of input triplets should we treat in order to fully characterize the truth table? (Justify)\n",
    "3. How many of such 3-bits logic circuits can we realize? (Justify) "
   ]
  },
  {
   "cell_type": "markdown",
   "id": "40d6f698",
   "metadata": {},
   "source": [
    "# Question 3 ( /7)\n",
    "\n",
    "This question evaluates your ability to **solve** problems with numerical values expected (**calculator available**)."
   ]
  },
  {
   "cell_type": "markdown",
   "id": "3fdd5079",
   "metadata": {},
   "source": [
    "## Question A ( /1)\n",
    "\n",
    "Hydroelectric generators at Hoover Dam produce a maximum current of $8.00\\times10^{3}\\;A$ at 250 kV. \n",
    "\n",
    "1. What is the power output?\n",
    "2. The water that powers the generators enters and leaves the system at low speed (thus its kinetic energy does not change) but loses 160 m in altitude. How many cubic meters per second are needed, assuming 85.0% efficiency?"
   ]
  },
  {
   "cell_type": "markdown",
   "id": "1f222089",
   "metadata": {},
   "source": [
    "## Question B ( /1)\n",
    "\n",
    "Using a base-26 representation of numbers (based on the alphabet), you want to communicate the answer to an exam question to another student , if you get caught, you don't want your teacher to be accuse you directly.\n",
    "\n",
    "<img title=\"a title\" alt=\"Alt text\" src=\"../Figures/Mock exam/alphabet.png\" width=\"400\">\n",
    "\n",
    "The space in the sentence should be interpreted as \"+\" (that is your convention).\n",
    "\n",
    "Unfortunately, you were spotted! Here is the sentence you wanted to communicate:\n",
    "\n",
    "\"GSH CIG FUD\"\n",
    "\n",
    "What was the final answer? "
   ]
  },
  {
   "cell_type": "markdown",
   "id": "8ea13193",
   "metadata": {},
   "source": [
    "## Question C ( /2)\n",
    "\n",
    "Consider the following breadboard circuits:\n",
    "\n",
    "<img title=\"a title\" alt=\"Alt text\" src=\"../Figures/Mock exam/question_3_3.png\" width=\"800\">\n",
    "\n",
    "All these circuits (from $a$ to $e$) are independent of one another and powered by a $9V$-battery.\n",
    "\n",
    "1. Find the voltage measured at node 1 (circuit a).\n",
    "2. Suppose that the battery gets disconnected (at $t_{0}=0$), what is value of the voltage at node 2 after $2\\mu s$ (circuit b).\n",
    "\n",
    "One then reconnects the battery and waits for a few seconds.\n",
    "\n",
    "3. Find the charge $Q$ and energy stored in the red capacitor (circuit c).\n",
    "4. Find the time constant of circuit d.\n",
    "5. What is the current flowing in circuit e (way after the battery was connected)?"
   ]
  },
  {
   "cell_type": "markdown",
   "id": "4b332f91",
   "metadata": {},
   "source": [
    "## Question D ( /1.5)\n",
    "\n",
    "1. Suppose that, for a relaxation oscillator (see question 1), that $R=10k\\Omega$ and $C=1nF$. Consider that the signal $S$ is sent in a **high pass** filter characterized by $R^{*}=10k\\Omega$ and that $C^{*}=10pF$. Is the signal properly transmitted when measured after going through the filter?\n",
    "\n",
    "2. For such configuration, here are the signals measured (the output signal from the oscillator - in blue - as well as the output signal after filtering - in red). \n",
    "\n",
    "<img title=\"a title\" alt=\"Alt text\" src=\"../Figures/Mock exam/filter_highpass.png\" width=\"500\">\n",
    "\n",
    "During the time segment number (2), is the capacitor :\n",
    "    \n",
    "    1. Charging\n",
    "    2. Discharging\n",
    "    3. Need more informations\n",
    "\n",
    "3. Suppose that in such **high pass** configuration, I bring closer the plates of the capacitor. This is a good strategy to:\n",
    "\n",
    "\n",
    "    1. Enhance filtering.\n",
    "    2. Reduce filtering and head towards the recovering of my signal.\n",
    "    3. None of the above."
   ]
  },
  {
   "cell_type": "markdown",
   "id": "44a0b0f8",
   "metadata": {},
   "source": [
    "## Question E ( /1.5)\n",
    "\n",
    "Consider the following circuit (used in the context of audio amplification):\n",
    "\n",
    "<img title=\"a title\" alt=\"Alt text\" src=\"../Figures/Mock exam/question_3_E.png\" width=\"700\">\n",
    "\n",
    "What is the amplification factor (closed loop gain - $A$) when the switch 2, 3 and 4 are closed (they are considered as \"open\" as presented on the picture)?"
   ]
  },
  {
   "cell_type": "code",
   "execution_count": null,
   "id": "b68a4bde",
   "metadata": {},
   "outputs": [],
   "source": []
  }
 ],
 "metadata": {
  "kernelspec": {
   "display_name": "Python 3 (ipykernel)",
   "language": "python",
   "name": "python3"
  },
  "language_info": {
   "codemirror_mode": {
    "name": "ipython",
    "version": 3
   },
   "file_extension": ".py",
   "mimetype": "text/x-python",
   "name": "python",
   "nbconvert_exporter": "python",
   "pygments_lexer": "ipython3",
   "version": "3.9.7"
  }
 },
 "nbformat": 4,
 "nbformat_minor": 5
}
