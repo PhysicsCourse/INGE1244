{
 "cells": [
  {
   "cell_type": "markdown",
   "id": "e6abd376",
   "metadata": {},
   "source": [
    "# Filters\n",
    "\n",
    "Consider the following pair of circuits:\n",
    "\n",
    "<img title=\"a title\" alt=\"Alt text\" src=\"../Figures/Exercise 10/filters.png\" width=\"800\">\n",
    "\n",
    "It consists in a **relaxation oscillator** connected to a \"RC\" or \"CR\" **filter**. This circuitry is analogous to an **emitter**  sending a signal (the relaxation oscillator) and a **receiver** (located at the output of the filter) trying to \"listen\" to the emitted signal.\n",
    "\n",
    "### Question 1\n",
    "\n",
    "What is the frequency of the oscillator?\n",
    "\n",
    "<div class=\"alert alert-block alert-info\">\n",
    "    Note: For the rest of this exercise session, consider that $2ln(2)\\sim 1$. It is an <b>uggly</b> approximation, but it will make the numbers a lot clearer to analyse. With such approximation, one can consider that:    \n",
    "$$f=\\frac{1}{RC}$$\n",
    "</div>\n",
    "\n",
    "### Question 2\n",
    "\n",
    "What type of filter is presented in (a)? And (b)? \n",
    "\n",
    "### Question 3\n",
    "\n",
    "Suppose, for the oscillator, that $R=10k\\Omega$ and $C=1nF$. Considering the **low pass** filter configuration, suppose that $R^{*}=10k\\Omega$ and that $C^{*}=1pF$. Is the signal properly transmitted when measured between the red point and the ground?\n",
    "\n",
    "### Question 4\n",
    "\n",
    "1. Suppose, for the oscillator, that $R=10k\\Omega$ and $C=1nF$. Considering the **high pass** filter configuration, suppose that $R^{*}=10k\\Omega$ and that $C^{*}=10pF$. Is the signal properly transmitted when measured between the red point and the ground?\n",
    "\n",
    "2. For such configuration, here are the signals measured (the output signal from the oscillator - in blue - as well as the output signal after filtering - in red). \n",
    "\n",
    "<img title=\"a title\" alt=\"Alt text\" src=\"../Figures/Exercise 10/filter_highpass.png\" width=\"500\">\n",
    "\n",
    "During the time segment number (2), is the capacitor :\n",
    "    \n",
    "    1. Charging\n",
    "    2. Discharging\n",
    "    3. Need more informations\n",
    "\n",
    "3. Suppose that in such **high pass** configuration, I bring closer the plates of the capacitor. This is a good strategy to:\n",
    "\n",
    "\n",
    "    1. Enhance filtering.\n",
    "    2. Reduce filtering and head towards the recovering of my signal.\n",
    "    3. None of the above."
   ]
  },
  {
   "cell_type": "code",
   "execution_count": null,
   "id": "0b9d475b",
   "metadata": {},
   "outputs": [],
   "source": []
  }
 ],
 "metadata": {
  "kernelspec": {
   "display_name": "Python 3 (ipykernel)",
   "language": "python",
   "name": "python3"
  },
  "language_info": {
   "codemirror_mode": {
    "name": "ipython",
    "version": 3
   },
   "file_extension": ".py",
   "mimetype": "text/x-python",
   "name": "python",
   "nbconvert_exporter": "python",
   "pygments_lexer": "ipython3",
   "version": "3.9.7"
  }
 },
 "nbformat": 4,
 "nbformat_minor": 5
}
